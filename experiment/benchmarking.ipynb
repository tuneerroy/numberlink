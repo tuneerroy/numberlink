{
 "cells": [
  {
   "cell_type": "markdown",
   "metadata": {},
   "source": [
    "# Benchmarking Numberlink Solvers"
   ]
  },
  {
   "cell_type": "code",
   "execution_count": 1,
   "metadata": {},
   "outputs": [],
   "source": [
    "import sys\n",
    "import os\n",
    "\n",
    "# Add the `backend` folder to the path\n",
    "sys.path.append(os.path.abspath(\"../backend\"))\n",
    "sys.path.append(os.path.abspath(\"../experiment/grids\"))"
   ]
  },
  {
   "cell_type": "code",
   "execution_count": 2,
   "metadata": {},
   "outputs": [],
   "source": [
    "import time\n",
    "\n",
    "from constraint_solver_path import ConstraintPathSolver\n",
    "from pyco_solver_path import PycoPathSolver\n",
    "from pyco_solver_edge import PycoEdgeSolver\n",
    "\n",
    "import seaborn as sns\n",
    "import matplotlib.pyplot as plt\n",
    "import pandas as pd\n",
    "\n",
    "# from grid_4 import python_4_grids\n",
    "# from grid_5 import python_5_grids\n",
    "# from grid_6 import python_6_grids\n",
    "# from grid_7 import python_7_grids\n",
    "# from grid_8 import python_8_grids\n",
    "# from grid_9 import python_9_grids\n",
    "# from grid_10 import python_10_grids"
   ]
  },
  {
   "cell_type": "code",
   "execution_count": 3,
   "metadata": {},
   "outputs": [],
   "source": [
    "def run_constraint_path_solver(puzzle):\n",
    "    solver = ConstraintPathSolver(puzzle)\n",
    "    return solver.solve()\n",
    "\n",
    "def run_pyco_path_solver(puzzle):\n",
    "    solver = PycoPathSolver(puzzle)\n",
    "    return solver.solve()\n",
    "\n",
    "def run_pyco_edge_solver(puzzle):\n",
    "    solver = PycoEdgeSolver(puzzle)\n",
    "    return solver.solve()\n",
    "\n",
    "\n",
    "solvers = {\n",
    "    \"ConstraintPathSolver\": run_constraint_path_solver,\n",
    "}"
   ]
  },
  {
   "cell_type": "code",
   "execution_count": 4,
   "metadata": {},
   "outputs": [],
   "source": [
    "def benchmark_solver(solver, puzzles):\n",
    "    times = []\n",
    "    for index in range(len(puzzles)):\n",
    "        puzzle = puzzles[index]\n",
    "        start_time = time.time()\n",
    "        if solver(puzzle) is None:\n",
    "            print(f\"Failed to solve puzzle {index}\")\n",
    "            continue\n",
    "        end_time = time.time()\n",
    "        print(f\"Solved puzzle {index} in {end_time - start_time} seconds\")\n",
    "        times.append(end_time - start_time)\n",
    "    return times"
   ]
  },
  {
   "cell_type": "code",
   "execution_count": 5,
   "metadata": {},
   "outputs": [],
   "source": [
    "import signal\n",
    "import time\n",
    "\n",
    "def timeout_handler(signum, frame):\n",
    "    raise TimeoutError(\"Function execution exceeded the time limit!\")\n",
    "\n",
    "def run_with_timeout(func, timeout, *args, **kwargs):\n",
    "    signal.signal(signal.SIGALRM, timeout_handler)\n",
    "    signal.alarm(timeout)\n",
    "\n",
    "    try:\n",
    "        result = func(*args, **kwargs)\n",
    "        return result\n",
    "    except TimeoutError:\n",
    "        return None\n",
    "    finally:\n",
    "        signal.alarm(0)"
   ]
  },
  {
   "cell_type": "code",
   "execution_count": 6,
   "metadata": {},
   "outputs": [
    {
     "data": {
      "text/plain": [
       "[4, 5, 6, 7, 8, 9, 10, 11]"
      ]
     },
     "execution_count": 6,
     "metadata": {},
     "output_type": "execute_result"
    }
   ],
   "source": [
    "import json\n",
    "\n",
    "with open(\"puzzles.json\", \"r\") as f:\n",
    "    puzzles = json.load(f)\n",
    "    puzzles.sort(key=lambda x: x[\"dimension\"])\n",
    "puzzle_sizes = [puzzle[\"dimension\"] for puzzle in puzzles]\n",
    "puzzle_sizes"
   ]
  },
  {
   "cell_type": "code",
   "execution_count": 7,
   "metadata": {},
   "outputs": [],
   "source": [
    "MAX_RUNTIME = 1 # seconds"
   ]
  },
  {
   "cell_type": "code",
   "execution_count": 8,
   "metadata": {},
   "outputs": [
    {
     "name": "stderr",
     "output_type": "stream",
     "text": [
      "ConstraintPathSolver 4x4: 100%|██████████| 200/200 [00:09<00:00, 21.52it/s]\n",
      "ConstraintPathSolver 5x5: 100%|██████████| 200/200 [00:33<00:00,  5.98it/s]\n",
      "ConstraintPathSolver 6x6:  22%|██▎       | 45/200 [00:28<01:38,  1.57it/s]\n",
      "ConstraintPathSolver 7x7:   0%|          | 0/200 [00:01<?, ?it/s]\n",
      "ConstraintPathSolver 8x8:   0%|          | 0/200 [00:01<?, ?it/s]\n",
      "ConstraintPathSolver 9x9:   0%|          | 0/200 [00:01<?, ?it/s]\n",
      "ConstraintPathSolver 10x10:   0%|          | 0/200 [00:01<?, ?it/s]\n",
      "ConstraintPathSolver 11x11:   0%|          | 0/200 [00:01<?, ?it/s]\n"
     ]
    }
   ],
   "source": [
    "from tqdm import tqdm\n",
    "\n",
    "results = {\"Solver\": [], \"Puzzle Set\": [], \"Puzzle Number\": [], \"Time (s)\": []}\n",
    "NUM_PUZZLES_TO_SOLVE = 200\n",
    "\n",
    "for solver_name, solver in solvers.items():\n",
    "    for puzzle in puzzles:\n",
    "        dimension = puzzle[\"dimension\"]\n",
    "        grids = puzzle[\"grids\"]\n",
    "        if len(grids) < NUM_PUZZLES_TO_SOLVE:\n",
    "            print(f\"Warning: Not enough puzzles for {solver_name} {dimension}x{dimension}\")\n",
    "        grids = grids[:NUM_PUZZLES_TO_SOLVE]\n",
    "        for i, grid in tqdm(enumerate(grids, 1), desc=f\"{solver_name} {dimension}x{dimension}\", total=len(grids)):\n",
    "            start_time = time.time()\n",
    "            if run_with_timeout(solver, MAX_RUNTIME, grid) is None:\n",
    "                # print(f\"Failed to solve puzzle {i}\")\n",
    "                break\n",
    "            end_time = time.time()\n",
    "            # print(f\"Solved puzzle {i} in {end_time - start_time} seconds\")\n",
    "            results[\"Solver\"].append(solver_name)\n",
    "            results[\"Puzzle Set\"].append(f\"{dimension}x{dimension}\")\n",
    "            results[\"Puzzle Number\"].append(i)\n",
    "            results[\"Time (s)\"].append(end_time - start_time)\n",
    "\n",
    "df_results = pd.DataFrame(results)"
   ]
  },
  {
   "cell_type": "code",
   "execution_count": null,
   "metadata": {},
   "outputs": [],
   "source": [
    "df_results.to_csv(\"results.csv\", index=False)"
   ]
  },
  {
   "cell_type": "code",
   "execution_count": 9,
   "metadata": {},
   "outputs": [
    {
     "data": {
      "image/png": "[encoded data removed]",
      "text/plain": [
       "<Figure size 1000x600 with 1 Axes>"
      ]
     },
     "metadata": {},
     "output_type": "display_data"
    }
   ],
   "source": [
    "# Set style for the plot\n",
    "sns.set(style=\"whitegrid\")\n",
    "\n",
    "# Create the bar plot\n",
    "plt.figure(figsize=(10, 6))\n",
    "ax = sns.barplot(\n",
    "    x=\"Puzzle Set\", y=\"Time (s)\", hue=\"Solver\", data=df_results, errorbar=\"sd\"\n",
    ")\n",
    "plt.title(\"Average Performance of Solvers Across Puzzle Sets\")\n",
    "plt.xlabel(\"Puzzle Set\")\n",
    "plt.ylabel(\"Average Time (s)\")\n",
    "plt.legend(title=\"Solver\")\n",
    "\n",
    "# Add the values on top of the bars\n",
    "for container in ax.containers:\n",
    "    ax.bar_label(\n",
    "        container, fmt=\"%.2f\", label_type=\"edge\"\n",
    "    )  # \"%.2f\" formats the label to two decimal places\n",
    "\n",
    "plt.show()"
   ]
  },
  {
   "cell_type": "code",
   "execution_count": null,
   "metadata": {},
   "outputs": [],
   "source": []
  }
 ],
 "metadata": {
  "kernelspec": {
   "display_name": "numberlink-zTP6asuy-py3.11",
   "language": "python",
   "name": "python3"
  },
  "language_info": {
   "codemirror_mode": {
    "name": "ipython",
    "version": 3
   },
   "file_extension": ".py",
   "mimetype": "text/x-python",
   "name": "python",
   "nbconvert_exporter": "python",
   "pygments_lexer": "ipython3",
   "version": "3.11.10"
  }
 },
 "nbformat": 4,
 "nbformat_minor": 2
}
