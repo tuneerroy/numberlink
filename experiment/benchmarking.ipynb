{
 "cells": [
  {
   "cell_type": "markdown",
   "metadata": {},
   "source": [
    "# Benchmarking Numberlink Solvers"
   ]
  },
  {
   "cell_type": "code",
   "execution_count": 1,
   "metadata": {},
   "outputs": [],
   "source": [
    "import sys\n",
    "import os\n",
    "\n",
    "# Add the `backend` folder to the path\n",
    "sys.path.append(os.path.abspath(\"../backend\"))"
   ]
  },
  {
   "cell_type": "code",
   "execution_count": 2,
   "metadata": {},
   "outputs": [],
   "source": [
    "import time\n",
    "\n",
    "import seaborn as sns\n",
    "import matplotlib.pyplot as plt\n",
    "import pandas as pd\n",
    "\n",
    "from solvers import solvers"
   ]
  },
  {
   "cell_type": "code",
   "execution_count": 3,
   "metadata": {},
   "outputs": [],
   "source": [
    "def benchmark_solver(solver, puzzles):\n",
    "    times = []\n",
    "    for index in range(len(puzzles)):\n",
    "        puzzle = puzzles[index]\n",
    "        start_time = time.time()\n",
    "        if solver(puzzle) is None:\n",
    "            print(f\"Failed to solve puzzle {index}\")\n",
    "            continue\n",
    "        end_time = time.time()\n",
    "        print(f\"Solved puzzle {index} in {end_time - start_time} seconds\")\n",
    "        times.append(end_time - start_time)\n",
    "    return times"
   ]
  },
  {
   "cell_type": "code",
   "execution_count": 4,
   "metadata": {},
   "outputs": [],
   "source": [
    "import signal\n",
    "import time\n",
    "from contextlib import contextmanager\n",
    "\n",
    "@contextmanager\n",
    "def time_limit(seconds):\n",
    "    def timeout_handler(signum, frame):\n",
    "        raise TimeoutError(\"Function execution exceeded the time limit!\")\n",
    "\n",
    "    signal.signal(signal.SIGALRM, timeout_handler)\n",
    "    signal.alarm(seconds)\n",
    "    try:\n",
    "        yield\n",
    "    finally:\n",
    "        signal.alarm(0)"
   ]
  },
  {
   "cell_type": "code",
   "execution_count": 5,
   "metadata": {},
   "outputs": [
    {
     "data": {
      "text/plain": [
       "[4, 5, 6, 7, 8, 9, 10, 11]"
      ]
     },
     "execution_count": 5,
     "metadata": {},
     "output_type": "execute_result"
    }
   ],
   "source": [
    "import json\n",
    "\n",
    "with open(\"puzzles.json\", \"r\") as f:\n",
    "    puzzles = json.load(f)\n",
    "    puzzles.sort(key=lambda x: x[\"dimension\"])\n",
    "puzzle_sizes = [puzzle[\"dimension\"] for puzzle in puzzles]\n",
    "puzzle_sizes"
   ]
  },
  {
   "cell_type": "code",
   "execution_count": 6,
   "metadata": {},
   "outputs": [],
   "source": [
    "from concurrent.futures import ThreadPoolExecutor, TimeoutError\n",
    "\n",
    "MAX_RUNTIME = 1  # seconds"
   ]
  },
  {
   "cell_type": "code",
   "execution_count": 7,
   "metadata": {},
   "outputs": [],
   "source": [
    "from tqdm import tqdm\n",
    "\n",
    "results = {\"Solver\": [], \"Puzzle Set\": [], \"Puzzle Number\": [], \"Time (s)\": []}\n",
    "NUM_PUZZLES_TO_SOLVE = 200\n"
   ]
  },
  {
   "cell_type": "code",
   "execution_count": 8,
   "metadata": {},
   "outputs": [],
   "source": [
    "def verify_solution(puzzle, maybe_solution):\n",
    "    # verify no zeros in the solution\n",
    "    for i in range(len(maybe_solution)):\n",
    "        for j in range(len(maybe_solution[i])):\n",
    "            if maybe_solution[i][j] == 0:\n",
    "                return False\n",
    "\n",
    "    # all non-zero of the puzzle are still the same\n",
    "    for i in range(len(puzzle)):\n",
    "        for j in range(len(puzzle[i])):\n",
    "            if puzzle[i][j] != 0 and puzzle[i][j] != maybe_solution[i][j]:\n",
    "                return False\n",
    "\n",
    "    # all the pathways for one number are connected, i.e. the number of connected components is the same as the number of numbers\n",
    "    visited = [[False for _ in range(len(puzzle[i]))] for i in range(len(puzzle))]\n",
    "    def dfs(i, j, val):\n",
    "        if i < 0 or j < 0 or i >= len(puzzle) or j >= len(puzzle[i]) or visited[i][j] or maybe_solution[i][j] != val:\n",
    "            return\n",
    "        visited[i][j] = True\n",
    "        for dx, dy in [(1, 0), (-1, 0), (0, 1), (0, -1)]:\n",
    "            dfs(i + dx, j + dy, val)\n",
    "\n",
    "    num_connected_components = 0\n",
    "    for i in range(len(puzzle)):\n",
    "        for j in range(len(puzzle[i])):\n",
    "            if not visited[i][j]:\n",
    "                num_connected_components += 1\n",
    "                dfs(i, j, maybe_solution[i][j])\n",
    "    \n",
    "    num_numbers = len({puzzle[i][j] for i in range(len(puzzle)) for j in range(len(puzzle[i])) if puzzle[i][j] != 0})\n",
    "    return num_connected_components == num_numbers"
   ]
  },
  {
   "cell_type": "code",
   "execution_count": 9,
   "metadata": {},
   "outputs": [],
   "source": [
    "MIN_DIMENSION = 5\n",
    "MAX_DIMENSION = 5"
   ]
  },
  {
   "cell_type": "code",
   "execution_count": 10,
   "metadata": {},
   "outputs": [
    {
     "name": "stdout",
     "output_type": "stream",
     "text": [
      "dict_keys(['ConstraintPathSolver', 'PycoPathSolver', 'PycoEdgeSolver'])\n"
     ]
    },
    {
     "name": "stderr",
     "output_type": "stream",
     "text": [
      "PycoEdgeSolver 5x5:   6%|▌         | 11/200 [00:06<01:45,  1.79it/s]"
     ]
    },
    {
     "name": "stdout",
     "output_type": "stream",
     "text": [
      "Solver PycoEdgeSolver failed on puzzle 12\n",
      "Puzzle: \n",
      "[0, 0, 0, 0, 1]\n",
      "[1, 0, 0, 0, 0]\n",
      "[3, 0, 3, 0, 0]\n",
      "[0, 0, 2, 0, 0]\n",
      "[0, 0, 0, 0, 2]\n",
      "----------\n",
      "Expected: \n",
      "[1, 1, 1, 1, 1]\n",
      "[1, 2, 2, 2, 2]\n",
      "[3, 2, 3, 3, 2]\n",
      "[3, 2, 2, 3, 2]\n",
      "[3, 3, 3, 3, 2]\n",
      "----------\n",
      "Got: \n",
      "[1, 1, 1, 1, 1]\n",
      "[1, 3, 3, 3, 3]\n",
      "[3, 3, 3, 3, 3]\n",
      "[1, 1, 2, 3, 3]\n",
      "[1, 1, 2, 2, 2]\n"
     ]
    },
    {
     "name": "stderr",
     "output_type": "stream",
     "text": [
      "\n"
     ]
    }
   ],
   "source": [
    "def benchmark(solver_name):\n",
    "    solver = solvers[solver_name]\n",
    "    for puzzle in puzzles:\n",
    "        dimension = puzzle[\"dimension\"]\n",
    "        if dimension < MIN_DIMENSION or dimension > MAX_DIMENSION:\n",
    "            continue\n",
    "        items = puzzle[\"items\"]\n",
    "        if len(items) < NUM_PUZZLES_TO_SOLVE:\n",
    "            print(\n",
    "                f\"Warning: Not enough puzzles for {solver_name} {dimension}x{dimension}\"\n",
    "            )\n",
    "        items = items[:NUM_PUZZLES_TO_SOLVE]\n",
    "        for i, item in tqdm(\n",
    "            enumerate(items, 1),\n",
    "            desc=f\"{solver_name} {dimension}x{dimension}\",\n",
    "            total=len(items),\n",
    "        ):\n",
    "            start_time = time.perf_counter_ns()\n",
    "            puzzle = item[\"puzzle\"]\n",
    "            with ThreadPoolExecutor(max_workers=1) as executor:\n",
    "                future = executor.submit(solver, puzzle)\n",
    "                try:\n",
    "                    result = future.result(timeout=MAX_RUNTIME)\n",
    "                    if result is None:\n",
    "                        print(f\"Failed to solve puzzle {i}\")\n",
    "                        continue\n",
    "                except TimeoutError:\n",
    "                    # print(f\"Solver {solver_name} took too long on puzzle {i}\")\n",
    "                    time.sleep(2) # helps with the timeout?\n",
    "                    break\n",
    "\n",
    "            # verify the result\n",
    "            solution = item[\"solution\"]\n",
    "            if not verify_solution(puzzle, result):\n",
    "                print(f\"Solver {solver_name} failed on puzzle {i}\")\n",
    "                print(\"Puzzle: \")\n",
    "                for row in puzzle:\n",
    "                    print(row)\n",
    "                print('-' * 10)\n",
    "                print(\"Expected: \")\n",
    "                for row in solution:\n",
    "                    print(row)\n",
    "                print('-' * 10)\n",
    "                print(\"Got: \")\n",
    "                for row in result:\n",
    "                    print(row)\n",
    "                break\n",
    "\n",
    "            end_time = time.perf_counter_ns()\n",
    "            results[\"Solver\"].append(solver_name)\n",
    "            results[\"Puzzle Set\"].append(f\"{dimension}x{dimension}\")\n",
    "            results[\"Puzzle Number\"].append(i)\n",
    "            results[\"Time (s)\"].append(end_time - start_time)\n",
    "\n",
    "print(solvers.keys())\n",
    "\n",
    "benchmark(\"PycoEdgeSolver\")"
   ]
  },
  {
   "cell_type": "code",
   "execution_count": 11,
   "metadata": {},
   "outputs": [
    {
     "name": "stderr",
     "output_type": "stream",
     "text": [
      "ConstraintPathSolver 5x5: 100%|██████████| 200/200 [00:17<00:00, 11.21it/s]\n"
     ]
    }
   ],
   "source": [
    "benchmark(\"ConstraintPathSolver\")"
   ]
  },
  {
   "cell_type": "code",
   "execution_count": 12,
   "metadata": {},
   "outputs": [
    {
     "name": "stderr",
     "output_type": "stream",
     "text": [
      "PycoPathSolver 5x5: 100%|██████████| 200/200 [00:29<00:00,  6.86it/s]\n"
     ]
    }
   ],
   "source": [
    "benchmark(\"PycoPathSolver\")"
   ]
  },
  {
   "cell_type": "code",
   "execution_count": 13,
   "metadata": {},
   "outputs": [
    {
     "name": "stderr",
     "output_type": "stream",
     "text": [
      "PycoEdgeSolver 5x5:   6%|▌         | 11/200 [00:06<01:43,  1.82it/s]"
     ]
    },
    {
     "name": "stdout",
     "output_type": "stream",
     "text": [
      "Solver PycoEdgeSolver failed on puzzle 12\n",
      "Puzzle: \n",
      "[0, 0, 0, 0, 1]\n",
      "[1, 0, 0, 0, 0]\n",
      "[3, 0, 3, 0, 0]\n",
      "[0, 0, 2, 0, 0]\n",
      "[0, 0, 0, 0, 2]\n",
      "----------\n",
      "Expected: \n",
      "[1, 1, 1, 1, 1]\n",
      "[1, 2, 2, 2, 2]\n",
      "[3, 2, 3, 3, 2]\n",
      "[3, 2, 2, 3, 2]\n",
      "[3, 3, 3, 3, 2]\n",
      "----------\n",
      "Got: \n",
      "[1, 1, 1, 1, 1]\n",
      "[1, 3, 3, 3, 3]\n",
      "[3, 3, 3, 3, 3]\n",
      "[1, 1, 2, 3, 3]\n",
      "[1, 1, 2, 2, 2]\n"
     ]
    },
    {
     "name": "stderr",
     "output_type": "stream",
     "text": [
      "\n"
     ]
    }
   ],
   "source": [
    "benchmark(\"PycoEdgeSolver\")"
   ]
  },
  {
   "cell_type": "code",
   "execution_count": 14,
   "metadata": {},
   "outputs": [],
   "source": [
    "df_results = pd.DataFrame(results)"
   ]
  },
  {
   "cell_type": "code",
   "execution_count": 15,
   "metadata": {},
   "outputs": [],
   "source": [
    "df_results.to_csv(\"results.csv\", index=False)"
   ]
  },
  {
   "cell_type": "code",
   "execution_count": 16,
   "metadata": {},
   "outputs": [
    {
     "data": {
      "image/png": "[encoded data removed]",
      "text/plain": [
       "<Figure size 1000x600 with 1 Axes>"
      ]
     },
     "metadata": {},
     "output_type": "display_data"
    }
   ],
   "source": [
    "# Set style for the plot\n",
    "sns.set(style=\"whitegrid\")\n",
    "\n",
    "# Create the bar plot without error bars\n",
    "plt.figure(figsize=(10, 6))\n",
    "ax = sns.barplot(\n",
    "    x=\"Puzzle Set\", y=\"Time (s)\", hue=\"Solver\", data=df_results, errorbar=None\n",
    ")\n",
    "plt.title(\"Average Performance of Solvers Across Puzzle Sets\")\n",
    "plt.xlabel(\"Puzzle Set\")\n",
    "plt.ylabel(\"Average Time (s)\")\n",
    "plt.legend(title=\"Solver\")\n",
    "\n",
    "# Add the values on top of the bars\n",
    "for container in ax.containers:\n",
    "    for bar in container:\n",
    "        height = bar.get_height()\n",
    "        ax.text(\n",
    "            bar.get_x() + bar.get_width() / 2,\n",
    "            height,\n",
    "            f\"{height:.3f}\",\n",
    "            ha=\"center\",\n",
    "            va=\"bottom\",\n",
    "            fontsize=10,\n",
    "        )\n",
    "\n",
    "plt.show()"
   ]
  },
  {
   "cell_type": "code",
   "execution_count": null,
   "metadata": {},
   "outputs": [],
   "source": []
  }
 ],
 "metadata": {
  "kernelspec": {
   "display_name": "numberlink-zTP6asuy-py3.11",
   "language": "python",
   "name": "python3"
  },
  "language_info": {
   "codemirror_mode": {
    "name": "ipython",
    "version": 3
   },
   "file_extension": ".py",
   "mimetype": "text/x-python",
   "name": "python",
   "nbconvert_exporter": "python",
   "pygments_lexer": "ipython3",
   "version": "3.11.10"
  }
 },
 "nbformat": 4,
 "nbformat_minor": 2
}
