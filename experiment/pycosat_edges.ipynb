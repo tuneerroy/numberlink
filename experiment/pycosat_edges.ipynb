{
 "cells": [
  {
   "cell_type": "markdown",
   "metadata": {},
   "source": [
    "# Pycosat implementation of Algo #1"
   ]
  },
  {
   "cell_type": "code",
   "execution_count": 20,
   "metadata": {},
   "outputs": [],
   "source": [
    "import pycosat"
   ]
  },
  {
   "cell_type": "code",
   "execution_count": 21,
   "metadata": {},
   "outputs": [],
   "source": [
    "# Solver for Numberlink\n",
    "class NumberLinkSolver:\n",
    "    pass"
   ]
  },
  {
   "cell_type": "code",
   "execution_count": 22,
   "metadata": {},
   "outputs": [],
   "source": [
    "# choose variables\n",
    "# we need a number per edge\n",
    "# each edge is ((x1, y1), (x2, y2))\n",
    "# x_{edge, index of path}\n",
    "from typing import Optional\n",
    "\n",
    "def x(self, edge, index):\n",
    "    def edge_to_num(edge):\n",
    "        v, w = edge\n",
    "        x1, y1 = v\n",
    "        x2, y2 = w\n",
    "        return x1 * self.n**3 + y1 * self.n**2 + x2 * self.n + y2\n",
    "\n",
    "    num_paths = self.num_paths\n",
    "    ans = edge_to_num(edge) * num_paths + index\n",
    "    # +1 because we start from\n",
    "    return ans + 1\n",
    "\n",
    "NumberLinkSolver.x = x\n",
    "\n",
    "def inverse_x(self, var):\n",
    "    n = self.n\n",
    "    num_paths = self.num_paths\n",
    "\n",
    "    var -= 1\n",
    "    e, index = divmod(var, num_paths)\n",
    "    rest, y2 = divmod(e, n)\n",
    "    rest, x2 = divmod(rest, n)\n",
    "    x1, y1 = divmod(rest, n)\n",
    "\n",
    "    return ((x1, y1), (x2, y2)), index\n",
    "\n",
    "NumberLinkSolver.inverse_x = inverse_x"
   ]
  },
  {
   "cell_type": "code",
   "execution_count": 23,
   "metadata": {},
   "outputs": [],
   "source": [
    "# HELPER METHODS\n",
    "def all(literals):\n",
    "    return [[literal] for literal in literals]\n",
    "\n",
    "\n",
    "def none(literals):\n",
    "    return [[-literal] for literal in literals]\n",
    "\n",
    "\n",
    "def at_least_one(literals):\n",
    "    return [literals]\n",
    "\n",
    "\n",
    "def at_most_one(literals):\n",
    "    return [[-l1, -l2] for l1 in literals for l2 in literals if l1 < l2]\n",
    "\n",
    "\n",
    "def exactly_one(literals):\n",
    "    return at_least_one(literals) + at_most_one(literals)"
   ]
  },
  {
   "cell_type": "code",
   "execution_count": 24,
   "metadata": {},
   "outputs": [],
   "source": [
    "def at_most_one_path_per_edge(self):\n",
    "    num_paths = self.num_paths\n",
    "    edges = self.edges\n",
    "    x = self.x\n",
    "\n",
    "    clauses = []\n",
    "    for e in edges:\n",
    "        literals = [x(e, i) for i in range(num_paths)]\n",
    "        clauses += at_most_one(literals)\n",
    "    return clauses\n",
    "\n",
    "NumberLinkSolver.at_most_one_path_per_edge = at_most_one_path_per_edge"
   ]
  },
  {
   "cell_type": "code",
   "execution_count": 25,
   "metadata": {},
   "outputs": [],
   "source": [
    "def exactly_one_edge_per_vertex_on_path(self):\n",
    "    num_paths = self.num_paths\n",
    "    pairs = self.pairs\n",
    "    x = self.x\n",
    "    vertex_to_edges = self.vertex_to_edges\n",
    "\n",
    "    clauses = []\n",
    "    for index in range(num_paths):\n",
    "        vertices = pairs[index]\n",
    "        for v in vertices:\n",
    "            literals = [x(e, index) for e in vertex_to_edges[v]]\n",
    "            clauses += exactly_one(literals)\n",
    "\n",
    "            # don't want these vertices to be on any other non-index paths\n",
    "            for i in range(num_paths):\n",
    "                if i != index:\n",
    "                    literals = [x(e, i) for e in vertex_to_edges[v]]\n",
    "                    clauses += none(literals)\n",
    "    return clauses\n",
    "\n",
    "NumberLinkSolver.exactly_one_edge_per_vertex_on_path = (\n",
    "    exactly_one_edge_per_vertex_on_path\n",
    ")"
   ]
  },
  {
   "cell_type": "code",
   "execution_count": 26,
   "metadata": {},
   "outputs": [],
   "source": [
    "def exactly_two_edges_per_vertex_not_in_pair(self):\n",
    "    num_paths = self.num_paths\n",
    "    pairs = self.pairs\n",
    "    x = self.x\n",
    "    vertex_to_edges = self.vertex_to_edges\n",
    "    vertices = self.vertices\n",
    "\n",
    "    pair_vertices = {v for pair in pairs for v in pair}\n",
    "    clauses = []\n",
    "    for v in vertices:\n",
    "        if v in pair_vertices:\n",
    "            continue\n",
    "\n",
    "        # require at least one across ALL paths\n",
    "        literals = [x(e, i) for e in vertex_to_edges[v] for i in range(num_paths)]\n",
    "        clauses += at_least_one(literals)\n",
    "\n",
    "        # for each vertex, we require at least two edges among all paths to be active\n",
    "        for index in range(num_paths):\n",
    "            literals = [x(e, index) for e in vertex_to_edges[v]]\n",
    "\n",
    "            clause = at_least_one(literals)[0]\n",
    "            for literal in literals:\n",
    "                clause_copy = clause.copy()\n",
    "                clause_copy.remove(literal)\n",
    "                clause_copy.append(-literal) # if literal is True, one of the others must be True\n",
    "                clauses.append(clause_copy)\n",
    "\n",
    "    return clauses\n",
    "\n",
    "NumberLinkSolver.exactly_two_edges_per_vertex_not_in_pair = (\n",
    "    exactly_two_edges_per_vertex_not_in_pair\n",
    ")"
   ]
  },
  {
   "cell_type": "code",
   "execution_count": 27,
   "metadata": {},
   "outputs": [],
   "source": [
    "from collections import defaultdict\n",
    "\n",
    "def __init__(self, puzzle):\n",
    "    # puzzle is a list of lists of integers where 0 is empty, and any other number is a vertex\n",
    "    n = len(puzzle)\n",
    "    pairs = []\n",
    "    pair_matches = defaultdict(list)\n",
    "    for x in range(n):\n",
    "        for y in range(n):\n",
    "            vertex = puzzle[x][y]\n",
    "            if vertex != 0:\n",
    "                pair_matches[vertex].append((x, y))\n",
    "\n",
    "    for pair in pair_matches.values():\n",
    "        pairs.append(pair)\n",
    "\n",
    "    self.n = n\n",
    "    self.pairs = pairs\n",
    "    self.num_paths = len(pairs)\n",
    "    self.vertices = [(x, y) for x in range(n) for y in range(n)]\n",
    "\n",
    "    edges = []\n",
    "    vertex_to_edges = defaultdict(list)\n",
    "    for x in range(n):\n",
    "        for y in range(n):\n",
    "            if x + 1 < n:\n",
    "                edges.append(((x, y), (x + 1, y)))\n",
    "                vertex_to_edges[(x, y)].append(((x, y), (x + 1, y)))\n",
    "                vertex_to_edges[(x + 1, y)].append(((x, y), (x + 1, y)))\n",
    "            if y + 1 < n:\n",
    "                edges.append(((x, y), (x, y + 1)))\n",
    "                vertex_to_edges[(x, y)].append(((x, y), (x, y + 1)))\n",
    "                vertex_to_edges[(x, y + 1)].append(((x, y), (x, y + 1)))\n",
    "\n",
    "    self.edges = edges\n",
    "    self.vertex_to_edges = vertex_to_edges\n",
    "\n",
    "\n",
    "NumberLinkSolver.__init__ = __init__"
   ]
  },
  {
   "cell_type": "code",
   "execution_count": 28,
   "metadata": {},
   "outputs": [],
   "source": [
    "def solve(self):\n",
    "    clauses = []\n",
    "    clauses += self.at_most_one_path_per_edge()\n",
    "    clauses += self.exactly_one_edge_per_vertex_on_path()\n",
    "    clauses += self.exactly_two_edges_per_vertex_not_in_pair()\n",
    "\n",
    "    literals = pycosat.solve(clauses)\n",
    "\n",
    "    if literals == \"UNSAT\":\n",
    "        return None\n",
    "\n",
    "    n = self.n\n",
    "    solution = [[0 for _ in range(n)] for _ in range(n)]\n",
    "    for literal in literals:\n",
    "        if literal > 0:\n",
    "            edge, index = self.inverse_x(literal)\n",
    "            x1, y1 = edge[0]\n",
    "            x2, y2 = edge[1]\n",
    "            solution[x1][y1] = index + 1\n",
    "            solution[x2][y2] = index + 1\n",
    "    return solution\n",
    "\n",
    "\n",
    "NumberLinkSolver.solve = solve"
   ]
  },
  {
   "cell_type": "code",
   "execution_count": 29,
   "metadata": {},
   "outputs": [
    {
     "name": "stdout",
     "output_type": "stream",
     "text": [
      "[[1, 1, 1], [2, 2, 2], [3, 3, 3]]\n"
     ]
    }
   ],
   "source": [
    "puzzle = [[1, 0, 1], [2, 0, 2], [3, 0, 3]]\n",
    "\n",
    "solver = NumberLinkSolver(puzzle)\n",
    "print(solver.solve())  # [[1, 1, 1], [2, 2, 2], [3, 3, 3]]"
   ]
  }
 ],
 "metadata": {
  "kernelspec": {
   "display_name": "numberlink-zTP6asuy-py3.11",
   "language": "python",
   "name": "python3"
  },
  "language_info": {
   "codemirror_mode": {
    "name": "ipython",
    "version": 3
   },
   "file_extension": ".py",
   "mimetype": "text/x-python",
   "name": "python",
   "nbconvert_exporter": "python",
   "pygments_lexer": "ipython3",
   "version": "3.11.10"
  }
 },
 "nbformat": 4,
 "nbformat_minor": 2
}
