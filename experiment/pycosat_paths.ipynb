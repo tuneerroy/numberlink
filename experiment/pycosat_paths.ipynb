{
 "cells": [
  {
   "cell_type": "markdown",
   "metadata": {},
   "source": [
    "# Pycosat implementation of Algo #1"
   ]
  },
  {
   "cell_type": "code",
   "execution_count": 2,
   "metadata": {},
   "outputs": [],
   "source": [
    "import pycosat"
   ]
  },
  {
   "cell_type": "code",
   "execution_count": 3,
   "metadata": {},
   "outputs": [],
   "source": [
    "# Solver for Numberlink\n",
    "class NumberLinkSolver:\n",
    "    pass"
   ]
  },
  {
   "cell_type": "code",
   "execution_count": 4,
   "metadata": {},
   "outputs": [],
   "source": [
    "# choose variables\n",
    "# we need a number per variable\n",
    "# ok so each (x, y) is a vertex\n",
    "# x_{vertex, index of path, position}\n",
    "# position <= n\n",
    "def x(self, vertex, index, position):\n",
    "    \"\"\"\n",
    "    vertex being None means the phantom vertex\n",
    "    \"\"\"\n",
    "    n = self.n  # number of rows and columns\n",
    "    num_paths = self.num_paths  # number of paths\n",
    "\n",
    "    if vertex is not None:\n",
    "        x, y = vertex\n",
    "        vertex_num = x * n + y + 1  # +1 because 0 is the phantom vertex\n",
    "    else:\n",
    "        vertex_num = 0\n",
    "\n",
    "    # index is based on how many paths we have\n",
    "    ans = vertex_num * num_paths * (n + 1) + index * (n + 1) + position\n",
    "    # +1 because we start from 1\n",
    "    return ans + 1\n",
    "\n",
    "\n",
    "NumberLinkSolver.x = x\n",
    "\n",
    "\n",
    "def inverse_x(self, var):\n",
    "    n = self.n\n",
    "    num_paths = self.num_paths\n",
    "\n",
    "    var -= 1\n",
    "\n",
    "    vertex_num, index_position = divmod(var, num_paths * (n + 1))\n",
    "    index, position = divmod(index_position, n + 1)\n",
    "\n",
    "    if vertex_num == 0:\n",
    "        vertex = None\n",
    "    else:\n",
    "        vertex_num -= 1\n",
    "        x, y = divmod(vertex_num, n)\n",
    "        vertex = (x, y)\n",
    "\n",
    "    return vertex, index, position\n",
    "\n",
    "\n",
    "NumberLinkSolver.inverse_x = inverse_x"
   ]
  },
  {
   "cell_type": "code",
   "execution_count": 42,
   "metadata": {},
   "outputs": [],
   "source": [
    "# HELPER METHODS\n",
    "def at_least_one(literals):\n",
    "    # return [literal for literal in literals]\n",
    "    return [literals]\n",
    "\n",
    "\n",
    "def at_most_one(literals):\n",
    "    return [[-l1, -l2] for l1 in literals for l2 in literals if l1 < l2]\n",
    "\n",
    "\n",
    "def exactly_one(literals):\n",
    "    return at_least_one(literals) + at_most_one(literals)"
   ]
  },
  {
   "cell_type": "code",
   "execution_count": 43,
   "metadata": {},
   "outputs": [],
   "source": [
    "def each_vertex_in_a_single_path(self):\n",
    "    n = self.n\n",
    "    num_paths = self.num_paths\n",
    "\n",
    "    clauses = []\n",
    "    for vertex in self.vertices:\n",
    "        literals = [\n",
    "            self.x(vertex, index, position)\n",
    "            for index in range(num_paths)\n",
    "            for position in range(n + 1)\n",
    "        ]\n",
    "        clauses += exactly_one(literals)\n",
    "    return clauses\n",
    "\n",
    "\n",
    "NumberLinkSolver.each_vertex_in_a_single_path = each_vertex_in_a_single_path"
   ]
  },
  {
   "cell_type": "code",
   "execution_count": 44,
   "metadata": {},
   "outputs": [],
   "source": [
    "def each_position_in_a_single_vertex(self):\n",
    "    n = self.n\n",
    "    num_paths = self.num_paths\n",
    "\n",
    "    clauses = []\n",
    "    for index in range(num_paths):\n",
    "        for position in range(n + 1):\n",
    "            literals = [self.x(vertex, index, position) for vertex in self.vertices] + [\n",
    "                self.x(None, index, position)\n",
    "            ]\n",
    "            clauses += exactly_one(literals)\n",
    "    return clauses\n",
    "\n",
    "\n",
    "NumberLinkSolver.each_position_in_a_single_vertex = each_position_in_a_single_vertex"
   ]
  },
  {
   "cell_type": "code",
   "execution_count": 45,
   "metadata": {},
   "outputs": [],
   "source": [
    "def path_finished(self):\n",
    "    n = self.n\n",
    "    num_paths = self.num_paths\n",
    "\n",
    "    clauses = []\n",
    "    for index in range(num_paths):\n",
    "        for position in range(n):\n",
    "            clauses.append(\n",
    "                [-self.x(None, index, position), self.x(None, index, position + 1)]\n",
    "            )\n",
    "    return clauses\n",
    "\n",
    "\n",
    "NumberLinkSolver.path_finished = path_finished"
   ]
  },
  {
   "cell_type": "code",
   "execution_count": 46,
   "metadata": {},
   "outputs": [],
   "source": [
    "def is_neighbor(vertex1, vertex2):\n",
    "    x1, y1 = vertex1\n",
    "    x2, y2 = vertex2\n",
    "    return abs(x1 - x2) + abs(y1 - y2) == 1\n",
    "\n",
    "\n",
    "def consecutive_vertices_along_path(self):\n",
    "    n = self.n\n",
    "    num_paths = self.num_paths\n",
    "    x = self.x\n",
    "\n",
    "    clauses = []\n",
    "    for index in range(num_paths):\n",
    "        for position in range(n):\n",
    "            for vertex1 in self.vertices:\n",
    "                for vertex2 in self.vertices:\n",
    "                    if not is_neighbor(vertex1, vertex2):\n",
    "                        clauses.append(\n",
    "                            [\n",
    "                                -x(vertex1, index, position),\n",
    "                                -x(vertex2, index, position + 1),\n",
    "                            ]\n",
    "                        )\n",
    "    return clauses\n",
    "\n",
    "\n",
    "NumberLinkSolver.consecutive_vertices_along_path = consecutive_vertices_along_path"
   ]
  },
  {
   "cell_type": "code",
   "execution_count": 47,
   "metadata": {},
   "outputs": [],
   "source": [
    "def source_and_sink(self):\n",
    "    n = self.n\n",
    "    num_paths = self.num_paths\n",
    "    pairs = self.pairs\n",
    "    x = self.x\n",
    "\n",
    "    clauses = []\n",
    "    for index in range(num_paths):\n",
    "        clauses.append([x(pairs[index][0], index, 0)])\n",
    "        for position in range(n):\n",
    "            clauses.append(\n",
    "                [-x(pairs[index][1], index, position), x(None, index, position + 1)]\n",
    "            )\n",
    "    return clauses\n",
    "\n",
    "\n",
    "NumberLinkSolver.source_and_sink = source_and_sink"
   ]
  },
  {
   "cell_type": "code",
   "execution_count": 48,
   "metadata": {},
   "outputs": [],
   "source": [
    "from collections import defaultdict\n",
    "\n",
    "\n",
    "def __init__(self, puzzle):\n",
    "    # puzzle is a list of lists of integers where 0 is empty, and any other number is a vertex\n",
    "    n = len(puzzle)\n",
    "    pairs = []\n",
    "    pair_matches = defaultdict(list)\n",
    "    for x in range(n):\n",
    "        for y in range(n):\n",
    "            vertex = puzzle[x][y]\n",
    "            if vertex != 0:\n",
    "                pair_matches[vertex].append((x, y))\n",
    "\n",
    "    for pair in pair_matches.values():\n",
    "        pairs.append(pair)\n",
    "\n",
    "    self.n = n\n",
    "    self.pairs = pairs\n",
    "    self.num_paths = len(pairs)\n",
    "    self.vertices = [(x, y) for x in range(n) for y in range(n)]\n",
    "\n",
    "\n",
    "NumberLinkSolver.__init__ = __init__"
   ]
  },
  {
   "cell_type": "code",
   "execution_count": 49,
   "metadata": {},
   "outputs": [],
   "source": [
    "def solve(self):\n",
    "    clauses = []\n",
    "    clauses += self.each_vertex_in_a_single_path()\n",
    "    clauses += self.each_position_in_a_single_vertex()\n",
    "    clauses += self.path_finished()\n",
    "    clauses += self.consecutive_vertices_along_path()\n",
    "    clauses += self.source_and_sink()\n",
    "\n",
    "    literals = pycosat.solve(clauses)\n",
    "\n",
    "    if literals == \"UNSAT\":\n",
    "        return None\n",
    "\n",
    "    n = self.n\n",
    "    solution = [[0 for _ in range(n)] for _ in range(n)]\n",
    "    for literal in literals:\n",
    "        if literal > 0:\n",
    "            vertex, index, _ = self.inverse_x(literal)\n",
    "            if vertex is None:\n",
    "                continue\n",
    "            x, y = vertex\n",
    "            solution[x][y] = index + 1\n",
    "\n",
    "    return solution\n",
    "\n",
    "\n",
    "NumberLinkSolver.solve = solve"
   ]
  },
  {
   "cell_type": "code",
   "execution_count": 50,
   "metadata": {},
   "outputs": [
    {
     "name": "stdout",
     "output_type": "stream",
     "text": [
      "[[1, 1, 1], [2, 2, 2], [3, 3, 3]]\n"
     ]
    }
   ],
   "source": [
    "puzzle = [[1, 0, 1], [2, 0, 2], [3, 0, 3]]\n",
    "\n",
    "solver = NumberLinkSolver(puzzle)\n",
    "print(solver.solve())  # [[1, 1, 1], [2, 2, 2], [3, 3, 3]]"
   ]
  },
  {
   "cell_type": "code",
   "execution_count": null,
   "metadata": {},
   "outputs": [],
   "source": []
  }
 ],
 "metadata": {
  "kernelspec": {
   "display_name": "numberlink-zTP6asuy-py3.11",
   "language": "python",
   "name": "python3"
  },
  "language_info": {
   "codemirror_mode": {
    "name": "ipython",
    "version": 3
   },
   "file_extension": ".py",
   "mimetype": "text/x-python",
   "name": "python",
   "nbconvert_exporter": "python",
   "pygments_lexer": "ipython3",
   "version": "3.11.10"
  }
 },
 "nbformat": 4,
 "nbformat_minor": 2
}
