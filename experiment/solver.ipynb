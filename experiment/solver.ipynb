{
 "cells": [
  {
   "cell_type": "markdown",
   "metadata": {},
   "source": [
    "# Notebook for Solving Numberlink Puzzles"
   ]
  },
  {
   "cell_type": "code",
   "execution_count": 2,
   "metadata": {},
   "outputs": [],
   "source": [
    "from ortools.sat.python import cp_model\n",
    "from copy import deepcopy"
   ]
  },
  {
   "cell_type": "code",
   "execution_count": 3,
   "metadata": {},
   "outputs": [],
   "source": [
    "class NumberLinkSolver:\n",
    "    def __init__(self, grid: list[list[int]]):\n",
    "        self.n = len(grid)\n",
    "        self.grid = deepcopy(grid)"
   ]
  },
  {
   "cell_type": "code",
   "execution_count": null,
   "metadata": {},
   "outputs": [],
   "source": [
    "def create_variables(self):\n",
    "    model = self.model\n",
    "    k = self.k\n",
    "    n = self.n\n",
    "    grid = self.grid\n",
    "\n",
    "    self.vars = [[model.NewIntVar(0, 1, f'x;index={i};val={v}') for v in range(1, k+1)] for i in range(n**2)]\n",
    "\n",
    "    # n^2 * n^2 boolean matrix\n",
    "    self.neighbors = [[model.NewIntVar(0, 1, f'neighbors;index={i},{j}') for j in range(n**2)] for i in range(n**2)]\n",
    "\n",
    "NumberLinkSolver.create_variables = create_variables"
   ]
  },
  {
   "cell_type": "code",
   "execution_count": 13,
   "metadata": {},
   "outputs": [],
   "source": [
    "def existing_endpoints_constraint(self):\n",
    "    model = self.model\n",
    "    k = self.k\n",
    "    n = self.n\n",
    "    grid = self.grid\n",
    "    vars = self.vars\n",
    "\n",
    "    for i in range(n):\n",
    "        for j in range(n):\n",
    "            v = grid[i][j]\n",
    "            if v != 0:\n",
    "                assert 1 <= v <= k\n",
    "                model.Add(vars[i*n+j][v] == 1)\n",
    "\n",
    "NumberLinkSolver.existing_endpoints_constraint = existing_endpoints_constraint"
   ]
  },
  {
   "cell_type": "code",
   "execution_count": 14,
   "metadata": {},
   "outputs": [],
   "source": [
    "def add_neighbors_constraint(self):\n",
    "    model = self.model\n",
    "    k = self.k\n",
    "    n = self.n\n",
    "    grid = self.grid\n",
    "    vars = self.vars\n",
    "    neighbors = self.neighbors\n",
    "\n",
    "    def is_neighbor(x, y):\n",
    "        a, b = x\n",
    "        c, d = y\n",
    "        if a == c and abs(b-d) == 1:\n",
    "            return True\n",
    "        if b == d and abs(a-c) == 1:\n",
    "            return True\n",
    "        return False\n",
    "\n",
    "    for x in range(n**2):\n",
    "        for y in range(n**2):\n",
    "            neighbor = is_neighbor(x, y)\n",
    "            model.Add(neighbors[x][y] == neighbor)\n",
    "\n",
    "NumberLinkSolver.add_neighbors_constraint = add_neighbors_constraint"
   ]
  },
  {
   "cell_type": "code",
   "execution_count": 15,
   "metadata": {},
   "outputs": [],
   "source": [
    "# https://sysid.github.io/numberlink-puzzle/"
   ]
  },
  {
   "cell_type": "code",
   "execution_count": null,
   "metadata": {},
   "outputs": [],
   "source": []
  }
 ],
 "metadata": {
  "kernelspec": {
   "display_name": "numberlink-experiment-U3b7n3QN-py3.12",
   "language": "python",
   "name": "python3"
  },
  "language_info": {
   "codemirror_mode": {
    "name": "ipython",
    "version": 3
   },
   "file_extension": ".py",
   "mimetype": "text/x-python",
   "name": "python",
   "nbconvert_exporter": "python",
   "pygments_lexer": "ipython3",
   "version": "3.12.6"
  }
 },
 "nbformat": 4,
 "nbformat_minor": 2
}
